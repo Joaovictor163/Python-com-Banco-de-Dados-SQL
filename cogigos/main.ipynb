{
 "cells": [
  {
   "cell_type": "code",
   "execution_count": 23,
   "metadata": {},
   "outputs": [
    {
     "name": "stdout",
     "output_type": "stream",
     "text": [
      "conexão bem sucedida\n"
     ]
    }
   ],
   "source": [
    "# estarei utilizando o notbook do jupter para trabalhar melhor com o banco de dados em cada célula\n",
    "\n",
    "# Passo 1: rodar o comando pyodbc.driver e selecionar o nome do drive do sqlite  que vamos usar, nesse caso é o SQLite ODBC Driver\n",
    "# Passo 2 : importar a bilbioteca e fazer as conexões \n",
    "\n",
    "\n",
    "#print(pyodbc.drivers())\n",
    "\n",
    "import pyodbc\n",
    "\n",
    "data_connection = (\n",
    "    'Driver={SQLite3 ODBC Driver};'#nome do driver\n",
    "    'Server=localhost;'# servidor (neste caso é o local, se fosse online aqui passaria o link)\n",
    "    'DataBase=salarios.sqlite'# base de dados que baixei\n",
    "    #UID=Login;\n",
    "    #PWD=senha;\n",
    ")\n",
    "\n",
    "# Passo 3 criando a conexão ao banco de dados\n",
    "\n",
    "connection = pyodbc.connect(data_connection)\n",
    "print('conexão bem sucedida')"
   ]
  }
 ],
 "metadata": {
  "kernelspec": {
   "display_name": "Python 3",
   "language": "python",
   "name": "python3"
  },
  "language_info": {
   "codemirror_mode": {
    "name": "ipython",
    "version": 3
   },
   "file_extension": ".py",
   "mimetype": "text/x-python",
   "name": "python",
   "nbconvert_exporter": "python",
   "pygments_lexer": "ipython3",
   "version": "3.11.8"
  }
 },
 "nbformat": 4,
 "nbformat_minor": 2
}
