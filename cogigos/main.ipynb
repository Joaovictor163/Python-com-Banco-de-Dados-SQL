{
 "cells": [
  {
   "cell_type": "code",
   "execution_count": 1,
   "metadata": {},
   "outputs": [
    {
     "name": "stdout",
     "output_type": "stream",
     "text": [
      "conexão bem sucedida\n"
     ]
    }
   ],
   "source": [
    "# estarei utilizando o notbook do jupter para trabalhar melhor com o banco de dados em cada célula\n",
    "\n",
    "# Passo 1: rodar o comando pyodbc.driver e selecionar o nome do drive do sqlite  que vamos usar, nesse caso é o SQLite3 ODBC Driver\n",
    "# Passo 2 : importar a bilbioteca e fazer as conexões \n",
    "\n",
    "\n",
    "#print(pyodbc.drivers())\n",
    "\n",
    "import pyodbc\n",
    "\n",
    "info_conexcao = (\n",
    "    'Driver={SQLite3 ODBC Driver};'#nome do driver\n",
    "    'Server=localhost;'# servidor (neste caso é o local, se fosse online aqui passaria o link)\n",
    "    'DataBase=salarios.sqlite'# base de dados que baixei\n",
    "    #UID=Login; #caso o banco de dados precise de login e senha respectivamente\n",
    "    #PWD=senha;\n",
    ")\n",
    "\n",
    "# Passo 3 criando a conexão ao banco de dados\n",
    "\n",
    "conexao = pyodbc.connect(info_conexcao)\n",
    "print('conexão bem sucedida')"
   ]
  },
  {
   "cell_type": "code",
   "execution_count": 2,
   "metadata": {},
   "outputs": [],
   "source": [
    "# criamos um cursor do pyodbc para rodar os comandos sql\n",
    "cursor = conexao.cursor() "
   ]
  },
  {
   "cell_type": "code",
   "execution_count": 3,
   "metadata": {},
   "outputs": [
    {
     "name": "stdout",
     "output_type": "stream",
     "text": [
      "[(1, 'NATHANIEL FORD', 'GENERAL MANAGER-METROPOLITAN TRANSIT AUTHORITY', 167411.18, 0.0, 400184.25, None, 567595.43, 567595.43, 2011, '', 'San Francisco', ''), (2, 'GARY JIMENEZ', 'CAPTAIN III (POLICE DEPARTMENT)', 155966.02, 245131.88, 137811.38, None, 538909.28, 538909.28, 2011, '', 'San Francisco', ''), (3, 'ALBERT PARDINI', 'CAPTAIN III (POLICE DEPARTMENT)', 212739.13, 106088.18, 16452.6, None, 335279.91, 335279.91, 2011, '', 'San Francisco', ''), (4, 'CHRISTOPHER CHONG', 'WIRE ROPE CABLE MAINTENANCE MECHANIC', 77916.0, 56120.71, 198306.9, None, 332343.61, 332343.61, 2011, '', 'San Francisco', ''), (5, 'PATRICK GARDNER', 'DEPUTY CHIEF OF DEPARTMENT,(FIRE DEPARTMENT)', 134401.6, 9737.0, 182234.59, None, 326373.19, 326373.19, 2011, '', 'San Francisco', ''), (6, 'DAVID SULLIVAN', 'ASSISTANT DEPUTY CHIEF II', 118602.0, 8601.0, 189082.74, None, 316285.74, 316285.74, 2011, '', 'San Francisco', ''), (7, 'ALSON LEE', 'BATTALION CHIEF, (FIRE DEPARTMENT)', 92492.01, 89062.9, 134426.14, None, 315981.05, 315981.05, 2011, '', 'San Francisco', ''), (8, 'DAVID KUSHNER', 'DEPUTY DIRECTOR OF INVESTMENTS', 256576.96, 0.0, 51322.5, None, 307899.46, 307899.46, 2011, '', 'San Francisco', ''), (9, 'MICHAEL MORRIS', 'BATTALION CHIEF, (FIRE DEPARTMENT)', 176932.64, 86362.68, 40132.23, None, 303427.55, 303427.55, 2011, '', 'San Francisco', ''), (10, 'JOANNE HAYES-WHITE', 'CHIEF OF DEPARTMENT, (FIRE DEPARTMENT)', 285262.0, 0.0, 17115.73, None, 302377.73, 302377.73, 2011, '', 'San Francisco', ''), (11, 'ARTHUR KENNEY', 'ASSISTANT CHIEF OF DEPARTMENT, (FIRE DEPARTMENT)', 194999.39, 71344.88, 33149.9, None, 299494.17, 299494.17, 2011, '', 'San Francisco', ''), (12, 'PATRICIA JACKSON', 'CAPTAIN III (POLICE DEPARTMENT)', 99722.0, 87082.62, 110804.3, None, 297608.92, 297608.92, 2011, '', 'San Francisco', ''), (13, 'EDWARD HARRINGTON', 'EXECUTIVE CONTRACT EMPLOYEE', 294580.02, 0.0, 0.0, None, 294580.02, 294580.02, 2011, '', 'San Francisco', ''), (14, 'JOHN MARTIN', 'DEPARTMENT HEAD V', 271329.03, 0.0, 21342.59, None, 292671.62, 292671.62, 2011, '', 'San Francisco', ''), (15, 'DAVID FRANKLIN', 'BATTALION CHIEF, (FIRE DEPARTMENT)', 174872.64, 74050.3, 37424.11, None, 286347.05, 286347.05, 2011, '', 'San Francisco', ''), (16, 'RICHARD CORRIEA', 'COMMANDER III, (POLICE DEPARTMENT)', 198778.01, 73478.2, 13957.65, None, 286213.86, 286213.86, 2011, '', 'San Francisco', ''), (17, 'AMY HART', 'DEPARTMENT HEAD V', 268604.57, 0.0, 16115.86, None, 284720.43, 284720.43, 2011, '', 'San Francisco', ''), (18, 'SEBASTIAN WONG', 'CAPTAIN, EMERGENCYCY MEDICAL SERVICES', 140546.87, 119397.26, 18625.08, None, 278569.21, 278569.21, 2011, '', 'San Francisco', ''), (19, 'MARTY ROSS', 'BATTALION CHIEF, (FIRE DEPARTMENT)', 168692.63, 69626.12, 38115.47, None, 276434.22, 276434.22, 2011, '', 'San Francisco', ''), (20, 'ELLEN MOFFATT', 'ASSISTANT MEDICAL EXAMINER', 257510.59, 880.16, 16159.5, None, 274550.25, 274550.25, 2011, '', 'San Francisco', ''), (21, 'VENUS AZAR', 'ASSISTANT MEDICAL EXAMINER', 257510.48, 0.0, 16679.79, None, 274190.27, 274190.27, 2011, '', 'San Francisco', ''), (22, 'JUDY MELINEK', 'ASSISTANT MEDICAL EXAMINER', 257510.44, 377.21, 15883.56, None, 273771.21, 273771.21, 2011, '', 'San Francisco', ''), (23, 'GEORGE GARCIA', 'CAPTAIN, FIRE SUPPRESSION', 140546.88, 93200.58, 39955.25, None, 273702.71, 273702.71, 2011, '', 'San Francisco', ''), (24, 'VICTOR WYRSCH', 'BATTALION CHIEF, (FIRE DEPARTMENT)', 168692.63, 77896.14, 24083.86, None, 270672.63, 270672.63, 2011, '', 'San Francisco', ''), (25, 'JOSEPH DRISCOLL', 'CAPTAIN, FIRE SUPPRESSION', 140546.86, 97868.77, 31909.28, None, 270324.91, 270324.91, 2011, '', 'San Francisco', ''), (26, 'GREGORY SUHR', 'CHIEF OF POLICE', 256470.41, 0.0, 11522.18, None, 267992.59, 267992.59, 2011, '', 'San Francisco', ''), (27, 'JOHN HANLEY', 'CAPTAIN, FIRE SUPPRESSION', 92080.8, 40008.0, 133695.76, None, 265784.56, 265784.56, 2011, '', 'San Francisco', ''), (28, 'RAYMOND GUZMAN', 'BATTALION CHIEF, (FIRE DEPARTMENT)', 168692.59, 80706.88, 16063.99, None, 265463.46, 265463.46, 2011, '', 'San Francisco', ''), (29, 'DENISE SCHMITT', 'DEPUTY CHIEF III (POLICE DEPARTMENT)', 261717.6, 0.0, 2357.0, None, 264074.6, 264074.6, 2011, '', 'San Francisco', ''), (30, 'MONICA FIELDS', 'DEPUTY CHIEF OF DEPARTMENT,(FIRE DEPARTMENT)', 246225.6, 0.0, 15140.54, None, 261366.14, 261366.14, 2011, '', 'San Francisco', ''), (31, 'HARLAN KELLY-JR', 'EXECUTIVE CONTRACT EMPLOYEE', 234325.02, 0.0, 25972.64, None, 260297.66, 260297.66, 2011, '', 'San Francisco', ''), (32, 'DAVID SHINN', 'DEPUTY CHIEF III (POLICE DEPARTMENT)', 254027.63, 0.0, 5899.48, None, 259927.11, 259927.11, 2011, '', 'San Francisco', ''), (33, 'GARY AMELIO', 'DEPARTMENT HEAD V', 248895.7, 0.0, 10789.18, None, 259684.88, 259684.88, 2011, '', 'San Francisco', ''), (34, 'JOHN TURSI', 'INSPECTOR III, (POLICE DEPARTMENT)', 104861.39, 50227.61, 103499.39, None, 258588.39, 258588.39, 2011, '', 'San Francisco', ''), (35, 'JOSE VELO', 'BATTALION CHIEF, (FIRE DEPARTMENT)', 177781.25, 59924.97, 20658.0, None, 258364.22, 258364.22, 2011, '', 'San Francisco', ''), (36, 'KHOA TRINH', 'ELECTRONIC MAINTENANCE TECHNICIAN', 101953.2, 139102.95, 16483.94, None, 257540.09, 257540.09, 2011, '', 'San Francisco', ''), (37, 'SUSAN CURRIN', 'ADMINISTRATOR, SFGH MEDICAL CENTER', 245124.44, 0.0, 12000.0, None, 257124.44, 257124.44, 2011, '', 'San Francisco', ''), (38, 'JAMES BOSCH', 'INSPECTOR III, (POLICE DEPARTMENT)', 110661.2, 31162.04, 111446.2, None, 253269.44, 253269.44, 2011, '', 'San Francisco', ''), (39, 'JONES WONG', 'LIEUTENANT III (POLICE DEPARTMENT)', 132202.26, 52648.92, 67083.83, None, 251935.01, 251935.01, 2011, '', 'San Francisco', ''), (40, 'BRENDAN WARD', 'BATTALION CHIEF, (FIRE DEPARTMENT)', 147158.85, 64985.85, 39540.46, None, 251685.16, 251685.16, 2011, '', 'San Francisco', ''), (41, 'MICHAEL THOMPSON', 'BATTALION CHIEF, (FIRE DEPARTMENT)', 168692.66, 60847.56, 21055.17, None, 250595.39, 250595.39, 2011, '', 'San Francisco', ''), (42, 'THOMAS ABBOTT', 'BATTALION CHIEF, (FIRE DEPARTMENT)', 168692.63, 59760.9, 21954.96, None, 250408.49, 250408.49, 2011, '', 'San Francisco', ''), (43, 'THOMAS SIRAGUSA', 'DEPUTY CHIEF OF DEPARTMENT,(FIRE DEPARTMENT)', 218930.76, 4078.0, 27330.59, None, 250339.35, 250339.35, 2011, '', 'San Francisco', ''), (44, 'MICHAEL THOMPSON', 'FIREFIGHTER', 123013.02, 111729.65, 15575.26, None, 250317.93, 250317.93, 2011, '', 'San Francisco', ''), (45, 'SHARON MCCOLE WICHER', 'NURSING SUPERVISOR PSYCHIATRIC', 196081.86, 0.0, 54040.18, None, 250122.04, 250122.04, 2011, '', 'San Francisco', ''), (46, 'EDWIN LEE', 'MAYOR', 249375.02, 0.0, 0.0, None, 249375.02, 249375.02, 2011, '', 'San Francisco', ''), (47, 'BRYAN RUBENSTEIN', 'BATTALION CHIEF, (FIRE DEPARTMENT)', 168692.64, 66199.23, 14401.43, None, 249293.3, 249293.3, 2011, '', 'San Francisco', ''), (48, 'TRENT RHORER', 'DEPARTMENT HEAD V', 248895.77, 0.0, 0.0, None, 248895.77, 248895.77, 2011, '', 'San Francisco', ''), (49, 'JAMES DUDLEY', 'DEPUTY CHIEF III (POLICE DEPARTMENT)', 233867.6, 0.0, 14851.04, None, 248718.64, 248718.64, 2011, '', 'San Francisco', ''), (50, 'KEN YEE', 'LIEUTENANT, FIRE DEPARTMENT', 137729.92, 89856.01, 20848.46, None, 248434.39, 248434.39, 2011, '', 'San Francisco', '')]\n"
     ]
    }
   ],
   "source": [
    "# Puxar informacoes com uma consulta\n",
    "cursor.execute('SELECT * FROM Salaries') # aqui entra o comando sql\n",
    "\n",
    "# visualizar o resultado da consulta\n",
    "\n",
    "consulta = cursor.fetchall() # o resultado é uma lista com todas as linhas da tabela\n",
    "\n",
    "print(consulta[:50])"
   ]
  },
  {
   "cell_type": "code",
   "execution_count": 4,
   "metadata": {},
   "outputs": [],
   "source": [
    "cursor.close()\n",
    "conexao.close()\n",
    "# esses dois elementos devem ser fechados no final depois que finalizar todas as consultas feitas no banco de dados\n",
    "# pois pode dar erro se eu nao fechar e depois em um novo arquivo tentar abrir uma nova conexcao com o mesmo banco"
   ]
  }
 ],
 "metadata": {
  "kernelspec": {
   "display_name": "Python 3",
   "language": "python",
   "name": "python3"
  },
  "language_info": {
   "codemirror_mode": {
    "name": "ipython",
    "version": 3
   },
   "file_extension": ".py",
   "mimetype": "text/x-python",
   "name": "python",
   "nbconvert_exporter": "python",
   "pygments_lexer": "ipython3",
   "version": "3.11.8"
  }
 },
 "nbformat": 4,
 "nbformat_minor": 2
}
